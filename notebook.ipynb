{
 "cells": [
  {
   "cell_type": "code",
   "execution_count": 1,
   "id": "cecd4e08",
   "metadata": {},
   "outputs": [
    {
     "name": "stdout",
     "output_type": "stream",
     "text": [
      "NC_045512.2\n"
     ]
    }
   ],
   "source": [
    "from Bio import SeqIO\n",
    "\n",
    "records = SeqIO.parse(\"./Severe acute respiratory syndrome coronavirus 2 isolate Wuhan-Hu-1, complete genome.gb\", \"genbank\")\n",
    "for record in records:\n",
    "    print(record.id)"
   ]
  },
  {
   "cell_type": "code",
   "execution_count": 2,
   "id": "7c3a8b5d",
   "metadata": {},
   "outputs": [
    {
     "name": "stdout",
     "output_type": "stream",
     "text": [
      "Severe acute respiratory syndrome coronavirus 2 isolate Wuhan-Hu-1, complete genome\n"
     ]
    }
   ],
   "source": [
    "print(record.description)"
   ]
  },
  {
   "cell_type": "code",
   "execution_count": 3,
   "id": "c11e38ea",
   "metadata": {},
   "outputs": [
    {
     "data": {
      "text/plain": [
       "Seq('ATGGAGAGCCTTGTCCCTGGTTTCAACGAGAAAACACACGTCCAACTCAGTTTG...TAA')"
      ]
     },
     "execution_count": 3,
     "metadata": {},
     "output_type": "execute_result"
    }
   ],
   "source": [
    "orf1ab_seq = record.seq[265:13468] + record.seq[13467:21555]\n",
    "orf1ab_seq"
   ]
  },
  {
   "cell_type": "markdown",
   "id": "44a6b26a",
   "metadata": {},
   "source": [
    "세포 내의 유전 정보는 DNA 가닥으로부터 RNA로 전사가 된다.  \n",
    "이 때, 이러한 과정에서 A, T, G, C가 각각 A, U, G, C로 대응되어 뉴클레오타이드가 연결된다."
   ]
  },
  {
   "cell_type": "code",
   "execution_count": 4,
   "id": "261b0cf2",
   "metadata": {},
   "outputs": [
    {
     "data": {
      "text/plain": [
       "True"
      ]
     },
     "execution_count": 4,
     "metadata": {},
     "output_type": "execute_result"
    }
   ],
   "source": [
    "rna_sequence = orf1ab_seq.transcribe()\n",
    "str(rna_sequence) == str(orf1ab_seq).replace(\"T\", \"U\")"
   ]
  },
  {
   "cell_type": "markdown",
   "id": "5d9509ed",
   "metadata": {},
   "source": [
    "RNA의 염기 3개(코돈)은 하나의 아미노산을 지정하게 되는데 그 종류는 20 종류 이상이 된다.  \n",
    "아래는 위에서 추출한 orf1ab의 염기 배열을 통해 아미노산 배열을 계산 것이며 이러한 RNA의 정보를 이용해 단백질을 합성하는 과정을 번역이라 한다."
   ]
  },
  {
   "cell_type": "code",
   "execution_count": 5,
   "id": "46d830a9",
   "metadata": {},
   "outputs": [
    {
     "data": {
      "text/plain": [
       "Seq('MESLVPGFNEKTHVQLSLPVLQVRDVLVRGFGDSVEEVLSEARQHLKDGTCGLV...NN*')"
      ]
     },
     "execution_count": 5,
     "metadata": {},
     "output_type": "execute_result"
    }
   ],
   "source": [
    "orf1ab_seq.translate()"
   ]
  }
 ],
 "metadata": {
  "kernelspec": {
   "display_name": "3.12.9",
   "language": "python",
   "name": "python3"
  },
  "language_info": {
   "codemirror_mode": {
    "name": "ipython",
    "version": 3
   },
   "file_extension": ".py",
   "mimetype": "text/x-python",
   "name": "python",
   "nbconvert_exporter": "python",
   "pygments_lexer": "ipython3",
   "version": "3.12.9"
  }
 },
 "nbformat": 4,
 "nbformat_minor": 5
}
